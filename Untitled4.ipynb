{
 "cells": [
  {
   "cell_type": "code",
   "execution_count": 1,
   "metadata": {},
   "outputs": [
    {
     "ename": "RuntimeError",
     "evalue": "Cannot run the event loop while another loop is running",
     "output_type": "error",
     "traceback": [
      "\u001b[1;31m---------------------------------------------------------------------------\u001b[0m",
      "\u001b[1;31mRuntimeError\u001b[0m                              Traceback (most recent call last)",
      "\u001b[1;32m<ipython-input-1-45fa9e0802b9>\u001b[0m in \u001b[0;36m<module>\u001b[1;34m\u001b[0m\n\u001b[0;32m     53\u001b[0m \u001b[1;31m#         max_results=1000, after_result_number=10, return_type=\"pandas\", date=date)\u001b[0m\u001b[1;33m\u001b[0m\u001b[1;33m\u001b[0m\u001b[1;33m\u001b[0m\u001b[0m\n\u001b[0;32m     54\u001b[0m \u001b[1;33m\u001b[0m\u001b[0m\n\u001b[1;32m---> 55\u001b[1;33m max_res = sgql_client.search( product=\"geometry\", columns=\"*\", brand = \"starbucks\", brand_id = None, naics_code = None, phone_number = None, street_address = None, city = None, region = None, postal_code = None, iso_country_code = None, \n\u001b[0m\u001b[0;32m     56\u001b[0m         max_results='all', after_result_number=0, return_type=\"pandas\", date=date)\n",
      "\u001b[1;32m~\\Desktop\\mirkan projects\\upwork-graphQL\\safegraphql\\client.py\u001b[0m in \u001b[0;36msearch\u001b[1;34m(self, product, columns, date, brand, brand_id, naics_code, phone_number, location_name, street_address, city, region, postal_code, iso_country_code, max_results, after_result_number, preview_query, return_type)\u001b[0m\n\u001b[0;32m    589\u001b[0m         \u001b[0mloop\u001b[0m \u001b[1;33m=\u001b[0m \u001b[0masyncio\u001b[0m\u001b[1;33m.\u001b[0m\u001b[0mnew_event_loop\u001b[0m\u001b[1;33m(\u001b[0m\u001b[1;33m)\u001b[0m\u001b[1;33m\u001b[0m\u001b[1;33m\u001b[0m\u001b[0m\n\u001b[0;32m    590\u001b[0m         \u001b[0masyncio\u001b[0m\u001b[1;33m.\u001b[0m\u001b[0mset_event_loop\u001b[0m\u001b[1;33m(\u001b[0m\u001b[0mloop\u001b[0m\u001b[1;33m)\u001b[0m\u001b[1;33m\u001b[0m\u001b[1;33m\u001b[0m\u001b[0m\n\u001b[1;32m--> 591\u001b[1;33m         \u001b[1;32mreturn\u001b[0m \u001b[0mloop\u001b[0m\u001b[1;33m.\u001b[0m\u001b[0mrun_until_complete\u001b[0m\u001b[1;33m(\u001b[0m\u001b[0mself\u001b[0m\u001b[1;33m.\u001b[0m\u001b[0msearch_\u001b[0m\u001b[1;33m(\u001b[0m\u001b[0mproduct\u001b[0m\u001b[1;33m,\u001b[0m\u001b[0mcolumns\u001b[0m\u001b[1;33m,\u001b[0m\u001b[0mdate\u001b[0m\u001b[1;33m,\u001b[0m\u001b[0mbrand\u001b[0m\u001b[1;33m,\u001b[0m\u001b[0mbrand_id\u001b[0m\u001b[1;33m,\u001b[0m\u001b[0mnaics_code\u001b[0m\u001b[1;33m,\u001b[0m\u001b[0mphone_number\u001b[0m\u001b[1;33m,\u001b[0m\u001b[0mlocation_name\u001b[0m\u001b[1;33m,\u001b[0m\u001b[0mstreet_address\u001b[0m\u001b[1;33m,\u001b[0m\u001b[0mcity\u001b[0m\u001b[1;33m,\u001b[0m\u001b[0mregion\u001b[0m\u001b[1;33m,\u001b[0m\u001b[0mpostal_code\u001b[0m\u001b[1;33m,\u001b[0m\u001b[0miso_country_code\u001b[0m\u001b[1;33m,\u001b[0m\u001b[0mmax_results\u001b[0m\u001b[1;33m,\u001b[0m\u001b[0mafter_result_number\u001b[0m\u001b[1;33m,\u001b[0m\u001b[0mpreview_query\u001b[0m\u001b[1;33m,\u001b[0m\u001b[0mreturn_type\u001b[0m\u001b[1;33m)\u001b[0m\u001b[1;33m)\u001b[0m\u001b[1;33m\u001b[0m\u001b[1;33m\u001b[0m\u001b[0m\n\u001b[0m\u001b[0;32m    592\u001b[0m \u001b[1;33m\u001b[0m\u001b[0m\n\u001b[0;32m    593\u001b[0m     async def search_(self, product, columns, date='__default__',\n",
      "\u001b[1;32mc:\\users\\raq\\appdata\\local\\programs\\python\\python38-32\\lib\\asyncio\\base_events.py\u001b[0m in \u001b[0;36mrun_until_complete\u001b[1;34m(self, future)\u001b[0m\n\u001b[0;32m    590\u001b[0m         \"\"\"\n\u001b[0;32m    591\u001b[0m         \u001b[0mself\u001b[0m\u001b[1;33m.\u001b[0m\u001b[0m_check_closed\u001b[0m\u001b[1;33m(\u001b[0m\u001b[1;33m)\u001b[0m\u001b[1;33m\u001b[0m\u001b[1;33m\u001b[0m\u001b[0m\n\u001b[1;32m--> 592\u001b[1;33m         \u001b[0mself\u001b[0m\u001b[1;33m.\u001b[0m\u001b[0m_check_running\u001b[0m\u001b[1;33m(\u001b[0m\u001b[1;33m)\u001b[0m\u001b[1;33m\u001b[0m\u001b[1;33m\u001b[0m\u001b[0m\n\u001b[0m\u001b[0;32m    593\u001b[0m \u001b[1;33m\u001b[0m\u001b[0m\n\u001b[0;32m    594\u001b[0m         \u001b[0mnew_task\u001b[0m \u001b[1;33m=\u001b[0m \u001b[1;32mnot\u001b[0m \u001b[0mfutures\u001b[0m\u001b[1;33m.\u001b[0m\u001b[0misfuture\u001b[0m\u001b[1;33m(\u001b[0m\u001b[0mfuture\u001b[0m\u001b[1;33m)\u001b[0m\u001b[1;33m\u001b[0m\u001b[1;33m\u001b[0m\u001b[0m\n",
      "\u001b[1;32mc:\\users\\raq\\appdata\\local\\programs\\python\\python38-32\\lib\\asyncio\\base_events.py\u001b[0m in \u001b[0;36m_check_running\u001b[1;34m(self)\u001b[0m\n\u001b[0;32m    552\u001b[0m             \u001b[1;32mraise\u001b[0m \u001b[0mRuntimeError\u001b[0m\u001b[1;33m(\u001b[0m\u001b[1;34m'This event loop is already running'\u001b[0m\u001b[1;33m)\u001b[0m\u001b[1;33m\u001b[0m\u001b[1;33m\u001b[0m\u001b[0m\n\u001b[0;32m    553\u001b[0m         \u001b[1;32mif\u001b[0m \u001b[0mevents\u001b[0m\u001b[1;33m.\u001b[0m\u001b[0m_get_running_loop\u001b[0m\u001b[1;33m(\u001b[0m\u001b[1;33m)\u001b[0m \u001b[1;32mis\u001b[0m \u001b[1;32mnot\u001b[0m \u001b[1;32mNone\u001b[0m\u001b[1;33m:\u001b[0m\u001b[1;33m\u001b[0m\u001b[1;33m\u001b[0m\u001b[0m\n\u001b[1;32m--> 554\u001b[1;33m             raise RuntimeError(\n\u001b[0m\u001b[0;32m    555\u001b[0m                 'Cannot run the event loop while another loop is running')\n\u001b[0;32m    556\u001b[0m \u001b[1;33m\u001b[0m\u001b[0m\n",
      "\u001b[1;31mRuntimeError\u001b[0m: Cannot run the event loop while another loop is running"
     ]
    }
   ],
   "source": [
    "from safegraphql import client\n",
    "import pandas as pd\n",
    "import random, time\n",
    "from safegraphql.types import __PATTERNS__\n",
    "import pprint\n",
    "printy =  pprint.PrettyPrinter(indent=4).pprint\n",
    "\n",
    "df_type = type(pd.DataFrame())\n",
    "try:\n",
    "    apiKey = open(\"apiKey.txt\").readlines()[0]\n",
    "except Exception as e:\n",
    "    print(\"create file apiKey.txt and put your api key from https://shop.safegraph.com/api inside\")\n",
    "    apiKey = \"x8TUW4IV3hYC1L4Xav56nChUWwtBisRY\";\n",
    "\n",
    "\n",
    "sgql_client = client.HTTP_Client(apiKey)\n",
    "\n",
    "\n",
    "arr = []\n",
    "banned_keys = [\"__header__\", \"__footer__\"]\n",
    "keys = [i for i in __PATTERNS__.keys()] \n",
    "for i in keys:\n",
    "    arr += [i for i in __PATTERNS__[i] if i not in banned_keys]\n",
    "\n",
    "placekeys = [\n",
    "        \"224-222@5vg-7gv-d7q\", # \"222-222@5qw-shj-7qz\", \"222-222@5s6-pyc-7qz\", \"zzy-222@5xc-k8q-zmk\",\n",
    "        \"zzw-222@8fy-fjg-b8v\", # (Disney World)\n",
    "        \"zzy-227@5sb-8cw-pjv\", # (O'Hare Airport)\n",
    "        \"222-223@65y-rxx-djv\", # (Walmart in Albany, NY)\n",
    "        ]\n",
    "\n",
    "# placekey without many visits\n",
    "sparse_pk = '228-222@63s-dvy-9cq' # Fu Wah Mini Market in Philadelphia\n",
    "dates = [\n",
    "    '2021-08-24', \n",
    "    '2020-08-25', \n",
    "    '2018-08-25'\n",
    "]\n",
    "cols = [\n",
    "    'placekey',\n",
    "    'location_name',\n",
    "    'street_address',\n",
    "    'city',\n",
    "    'region',\n",
    "    'brands',\n",
    "    #'date_range_start',\n",
    "    #'raw_visit_counts',\n",
    "    #'visits_by_day'\n",
    "]\n",
    "\n",
    "date = {\"date_range_start\": \"2021-07-15\", \"date_range_end\": \"2021-07-29\"} \n",
    "# max_res = sgql_client.search( product=\"core\", columns=\"*\", brand = \"starbucks\", brand_id = None, naics_code = None, phone_number = None, street_address = None, city = None, region = None, postal_code = None, iso_country_code = None, \n",
    "#         max_results=1000, after_result_number=10, return_type=\"pandas\", date=date)\n",
    "\n",
    "max_res = sgql_client.search( product=\"geometry\", columns=\"*\", brand = \"starbucks\", brand_id = None, naics_code = None, phone_number = None, street_address = None, city = None, region = None, postal_code = None, iso_country_code = None, \n",
    "        max_results='all', after_result_number=0, return_type=\"pandas\", date=date)"
   ]
  },
  {
   "cell_type": "code",
   "execution_count": null,
   "metadata": {},
   "outputs": [],
   "source": []
  }
 ],
 "metadata": {
  "kernelspec": {
   "display_name": "Python 3",
   "language": "python",
   "name": "python3"
  },
  "language_info": {
   "codemirror_mode": {
    "name": "ipython",
    "version": 3
   },
   "file_extension": ".py",
   "mimetype": "text/x-python",
   "name": "python",
   "nbconvert_exporter": "python",
   "pygments_lexer": "ipython3",
   "version": "3.8.5"
  }
 },
 "nbformat": 4,
 "nbformat_minor": 4
}
