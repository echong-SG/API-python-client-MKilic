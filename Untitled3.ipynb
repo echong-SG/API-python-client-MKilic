{
 "cells": [
  {
   "cell_type": "code",
   "execution_count": 2,
   "metadata": {},
   "outputs": [],
   "source": [
    "from safegraphql import client\n"
   ]
  },
  {
   "cell_type": "code",
   "execution_count": 3,
   "metadata": {},
   "outputs": [
    {
     "name": "stdout",
     "output_type": "stream",
     "text": [
      "<module 'safegraphql.client' from 'C:\\\\Users\\\\Raq\\\\Desktop\\\\mirkan projects\\\\upwork-graphQL\\\\safegraphql\\\\client.py'>\n"
     ]
    }
   ],
   "source": [
    "print(client)"
   ]
  },
  {
   "cell_type": "code",
   "execution_count": 4,
   "metadata": {},
   "outputs": [
    {
     "data": {
      "text/plain": [
       "['apiKey.txt',\n",
       " 'asyncio_aiohttp_example.py',\n",
       " 'build',\n",
       " 'core.csv',\n",
       " 'dist',\n",
       " 'EUGENE.py',\n",
       " 'geometry.csv',\n",
       " 'info.txt',\n",
       " 'inner_df.csv',\n",
       " 'LICENSE.txt',\n",
       " 'MANIFEST.in',\n",
       " 'monthly_patterns.csv',\n",
       " 'outer_df.csv',\n",
       " 'Pipfile',\n",
       " 'Pipfile.lock',\n",
       " 'PKG-INFO',\n",
       " 'pyproject.toml',\n",
       " 'README.md',\n",
       " 'requirements.txt',\n",
       " 'safegraphql',\n",
       " 'safegraphQL.egg-info',\n",
       " 'setup.cfg',\n",
       " 'setup.py',\n",
       " 'tests',\n",
       " 'Untitled.ipynb',\n",
       " 'Untitled1.ipynb',\n",
       " 'Untitled2.ipynb',\n",
       " 'Untitled3.ipynb']"
      ]
     },
     "execution_count": 4,
     "metadata": {},
     "output_type": "execute_result"
    }
   ],
   "source": [
    "import glob\n",
    "glob.glob(\"*\")"
   ]
  },
  {
   "cell_type": "code",
   "execution_count": 5,
   "metadata": {},
   "outputs": [],
   "source": [
    "from safegraphql import client\n",
    "import pandas as pd\n",
    "import random, time\n",
    "from safegraphql.types import __PATTERNS__\n",
    "import pprint\n",
    "printy =  pprint.PrettyPrinter(indent=4).pprint\n",
    "\n",
    "df_type = type(pd.DataFrame())\n",
    "try:\n",
    "    apiKey = open(\"apiKey.txt\").readlines()[0]\n",
    "except Exception as e:\n",
    "    print(\"create file apiKey.txt and put your api key from https://shop.safegraph.com/api inside\")\n",
    "    apiKey = \"x8TUW4IV3hYC1L4Xav56nChUWwtBisRY\";\n",
    "\n",
    "\n",
    "sgql_client = client.HTTP_Client(apiKey)\n",
    "\n",
    "\n",
    "arr = []\n",
    "banned_keys = [\"__header__\", \"__footer__\"]\n",
    "keys = [i for i in __PATTERNS__.keys()] \n",
    "for i in keys:\n",
    "    arr += [i for i in __PATTERNS__[i] if i not in banned_keys]\n",
    "\n",
    "placekeys = [\n",
    "        \"224-222@5vg-7gv-d7q\", # \"222-222@5qw-shj-7qz\", \"222-222@5s6-pyc-7qz\", \"zzy-222@5xc-k8q-zmk\",\n",
    "        \"zzw-222@8fy-fjg-b8v\", # (Disney World)\n",
    "        \"zzy-227@5sb-8cw-pjv\", # (O'Hare Airport)\n",
    "        \"222-223@65y-rxx-djv\", # (Walmart in Albany, NY)\n",
    "        ]\n",
    "\n",
    "# placekey without many visits\n",
    "sparse_pk = '228-222@63s-dvy-9cq' # Fu Wah Mini Market in Philadelphia\n",
    "dates = [\n",
    "    '2021-08-24', \n",
    "    '2020-08-25', \n",
    "    '2018-08-25'\n",
    "]\n",
    "cols = [\n",
    "    'placekey',\n",
    "    'location_name',\n",
    "    'street_address',\n",
    "    'city',\n",
    "    'region',\n",
    "    'brands',\n",
    "    #'date_range_start',\n",
    "    #'raw_visit_counts',\n",
    "    #'visits_by_day'\n",
    "]\n",
    "\n",
    "date = {\"date_range_start\": \"2021-07-15\", \"date_range_end\": \"2021-07-29\"} "
   ]
  },
  {
   "cell_type": "code",
   "execution_count": 6,
   "metadata": {},
   "outputs": [
    {
     "ename": "AttributeError",
     "evalue": "'NoneType' object has no attribute 'run_until_complete'",
     "output_type": "error",
     "traceback": [
      "\u001b[1;31m---------------------------------------------------------------------------\u001b[0m",
      "\u001b[1;31mAttributeError\u001b[0m                            Traceback (most recent call last)",
      "\u001b[1;32m<ipython-input-6-102d89493d4a>\u001b[0m in \u001b[0;36m<module>\u001b[1;34m\u001b[0m\n\u001b[1;32m----> 1\u001b[1;33m max_res = sgql_client.search( product=\"geometry\", columns=\"*\", brand = \"starbucks\", brand_id = None, naics_code = None, phone_number = None, street_address = None, city = None, region = None, postal_code = None, iso_country_code = None, \n\u001b[0m\u001b[0;32m      2\u001b[0m         max_results='all', after_result_number=0, return_type=\"pandas\", date=date)\n",
      "\u001b[1;32m~\\Desktop\\mirkan projects\\upwork-graphQL\\safegraphql\\client.py\u001b[0m in \u001b[0;36msearch\u001b[1;34m(self, product, columns, date, brand, brand_id, naics_code, phone_number, location_name, street_address, city, region, postal_code, iso_country_code, max_results, after_result_number, preview_query, return_type)\u001b[0m\n\u001b[0;32m    586\u001b[0m     \u001b[1;32mdef\u001b[0m \u001b[0msearch\u001b[0m\u001b[1;33m(\u001b[0m\u001b[0mself\u001b[0m\u001b[1;33m,\u001b[0m \u001b[0mproduct\u001b[0m\u001b[1;33m,\u001b[0m \u001b[0mcolumns\u001b[0m\u001b[1;33m,\u001b[0m \u001b[0mdate\u001b[0m\u001b[1;33m=\u001b[0m\u001b[1;34m'__default__'\u001b[0m\u001b[1;33m,\u001b[0m\u001b[0mbrand\u001b[0m\u001b[1;33m:\u001b[0m\u001b[0mstr\u001b[0m\u001b[1;33m=\u001b[0m\u001b[1;32mNone\u001b[0m\u001b[1;33m,\u001b[0m\u001b[0mbrand_id\u001b[0m\u001b[1;33m:\u001b[0m\u001b[0mstr\u001b[0m\u001b[1;33m=\u001b[0m\u001b[1;32mNone\u001b[0m\u001b[1;33m,\u001b[0m\u001b[0mnaics_code\u001b[0m\u001b[1;33m:\u001b[0m\u001b[0mint\u001b[0m\u001b[1;33m=\u001b[0m\u001b[1;32mNone\u001b[0m\u001b[1;33m,\u001b[0m \u001b[0mphone_number\u001b[0m\u001b[1;33m:\u001b[0m\u001b[0mstr\u001b[0m\u001b[1;33m=\u001b[0m\u001b[1;32mNone\u001b[0m\u001b[1;33m,\u001b[0m\u001b[0mlocation_name\u001b[0m\u001b[1;33m:\u001b[0m\u001b[0mstr\u001b[0m\u001b[1;33m=\u001b[0m\u001b[1;32mNone\u001b[0m\u001b[1;33m,\u001b[0m \u001b[0mstreet_address\u001b[0m\u001b[1;33m:\u001b[0m\u001b[0mstr\u001b[0m\u001b[1;33m=\u001b[0m\u001b[1;32mNone\u001b[0m\u001b[1;33m,\u001b[0m \u001b[0mcity\u001b[0m\u001b[1;33m:\u001b[0m\u001b[0mstr\u001b[0m\u001b[1;33m=\u001b[0m\u001b[1;32mNone\u001b[0m\u001b[1;33m,\u001b[0m \u001b[0mregion\u001b[0m\u001b[1;33m:\u001b[0m\u001b[0mstr\u001b[0m\u001b[1;33m=\u001b[0m\u001b[1;32mNone\u001b[0m\u001b[1;33m,\u001b[0m \u001b[0mpostal_code\u001b[0m\u001b[1;33m:\u001b[0m\u001b[0mstr\u001b[0m\u001b[1;33m=\u001b[0m\u001b[1;32mNone\u001b[0m\u001b[1;33m,\u001b[0m \u001b[0miso_country_code\u001b[0m\u001b[1;33m:\u001b[0m\u001b[0mstr\u001b[0m\u001b[1;33m=\u001b[0m\u001b[1;32mNone\u001b[0m\u001b[1;33m,\u001b[0m\u001b[0mmax_results\u001b[0m\u001b[1;33m:\u001b[0m\u001b[0mint\u001b[0m\u001b[1;33m=\u001b[0m\u001b[1;36m20\u001b[0m\u001b[1;33m,\u001b[0m\u001b[0mafter_result_number\u001b[0m\u001b[1;33m:\u001b[0m\u001b[0mint\u001b[0m\u001b[1;33m=\u001b[0m\u001b[1;36m0\u001b[0m\u001b[1;33m,\u001b[0m\u001b[0mpreview_query\u001b[0m\u001b[1;33m:\u001b[0m\u001b[0mbool\u001b[0m\u001b[1;33m=\u001b[0m\u001b[1;32mFalse\u001b[0m\u001b[1;33m,\u001b[0m\u001b[0mreturn_type\u001b[0m\u001b[1;33m:\u001b[0m\u001b[0mstr\u001b[0m\u001b[1;33m=\u001b[0m\u001b[1;34m\"pandas\"\u001b[0m\u001b[1;33m)\u001b[0m\u001b[1;33m:\u001b[0m\u001b[1;33m\u001b[0m\u001b[1;33m\u001b[0m\u001b[0m\n\u001b[0;32m    587\u001b[0m         \u001b[0mloop\u001b[0m \u001b[1;33m=\u001b[0m \u001b[0masyncio\u001b[0m\u001b[1;33m.\u001b[0m\u001b[0mset_event_loop\u001b[0m\u001b[1;33m(\u001b[0m\u001b[0masyncio\u001b[0m\u001b[1;33m.\u001b[0m\u001b[0mnew_event_loop\u001b[0m\u001b[1;33m(\u001b[0m\u001b[1;33m)\u001b[0m\u001b[1;33m)\u001b[0m\u001b[1;33m\u001b[0m\u001b[1;33m\u001b[0m\u001b[0m\n\u001b[1;32m--> 588\u001b[1;33m         \u001b[1;32mreturn\u001b[0m \u001b[0mloop\u001b[0m\u001b[1;33m.\u001b[0m\u001b[0mrun_until_complete\u001b[0m\u001b[1;33m(\u001b[0m\u001b[0mself\u001b[0m\u001b[1;33m.\u001b[0m\u001b[0msearch_\u001b[0m\u001b[1;33m(\u001b[0m\u001b[0mproduct\u001b[0m\u001b[1;33m,\u001b[0m\u001b[0mcolumns\u001b[0m\u001b[1;33m,\u001b[0m\u001b[0mdate\u001b[0m\u001b[1;33m,\u001b[0m\u001b[0mbrand\u001b[0m\u001b[1;33m,\u001b[0m\u001b[0mbrand_id\u001b[0m\u001b[1;33m,\u001b[0m\u001b[0mnaics_code\u001b[0m\u001b[1;33m,\u001b[0m\u001b[0mphone_number\u001b[0m\u001b[1;33m,\u001b[0m\u001b[0mlocation_name\u001b[0m\u001b[1;33m,\u001b[0m\u001b[0mstreet_address\u001b[0m\u001b[1;33m,\u001b[0m\u001b[0mcity\u001b[0m\u001b[1;33m,\u001b[0m\u001b[0mregion\u001b[0m\u001b[1;33m,\u001b[0m\u001b[0mpostal_code\u001b[0m\u001b[1;33m,\u001b[0m\u001b[0miso_country_code\u001b[0m\u001b[1;33m,\u001b[0m\u001b[0mmax_results\u001b[0m\u001b[1;33m,\u001b[0m\u001b[0mafter_result_number\u001b[0m\u001b[1;33m,\u001b[0m\u001b[0mpreview_query\u001b[0m\u001b[1;33m,\u001b[0m\u001b[0mreturn_type\u001b[0m\u001b[1;33m)\u001b[0m\u001b[1;33m)\u001b[0m\u001b[1;33m\u001b[0m\u001b[1;33m\u001b[0m\u001b[0m\n\u001b[0m\u001b[0;32m    589\u001b[0m \u001b[1;33m\u001b[0m\u001b[0m\n\u001b[0;32m    590\u001b[0m     async def search_(self, product, columns, date='__default__',\n",
      "\u001b[1;31mAttributeError\u001b[0m: 'NoneType' object has no attribute 'run_until_complete'"
     ]
    }
   ],
   "source": [
    "max_res = sgql_client.search( product=\"geometry\", columns=\"*\", brand = \"starbucks\", brand_id = None, naics_code = None, phone_number = None, street_address = None, city = None, region = None, postal_code = None, iso_country_code = None, \n",
    "        max_results='all', after_result_number=0, return_type=\"pandas\", date=date)"
   ]
  },
  {
   "cell_type": "code",
   "execution_count": null,
   "metadata": {},
   "outputs": [],
   "source": []
  }
 ],
 "metadata": {
  "kernelspec": {
   "display_name": "Python 3",
   "language": "python",
   "name": "python3"
  },
  "language_info": {
   "codemirror_mode": {
    "name": "ipython",
    "version": 3
   },
   "file_extension": ".py",
   "mimetype": "text/x-python",
   "name": "python",
   "nbconvert_exporter": "python",
   "pygments_lexer": "ipython3",
   "version": "3.8.5"
  }
 },
 "nbformat": 4,
 "nbformat_minor": 4
}
