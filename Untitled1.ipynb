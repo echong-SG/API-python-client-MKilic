{
 "cells": [
  {
   "cell_type": "code",
   "execution_count": 1,
   "metadata": {},
   "outputs": [
    {
     "name": "stdout",
     "output_type": "stream",
     "text": [
      "Requirement already satisfied: safegraphql==0.5.11 in c:\\users\\raq\\appdata\\local\\programs\\python\\python38-32\\lib\\site-packages (0.5.11)\n",
      "Requirement already satisfied: gql==3.0.0b0 in c:\\users\\raq\\appdata\\local\\programs\\python\\python38-32\\lib\\site-packages (from safegraphql==0.5.11) (3.0.0b0)\n",
      "Requirement already satisfied: aiohttp<3.8.0,>=3.7.1 in c:\\users\\raq\\appdata\\local\\programs\\python\\python38-32\\lib\\site-packages (from safegraphql==0.5.11) (3.7.4.post0)\n",
      "Requirement already satisfied: nest-asyncio==1.5.1 in c:\\users\\raq\\appdata\\local\\programs\\python\\python38-32\\lib\\site-packages (from safegraphql==0.5.11) (1.5.1)\n",
      "Requirement already satisfied: pandas==1.3.2 in c:\\users\\raq\\appdata\\local\\programs\\python\\python38-32\\lib\\site-packages (from safegraphql==0.5.11) (1.3.2)\n",
      "Requirement already satisfied: yarl<2.0,>=1.6 in c:\\users\\raq\\appdata\\local\\programs\\python\\python38-32\\lib\\site-packages (from gql==3.0.0b0->safegraphql==0.5.11) (1.6.3)\n",
      "Requirement already satisfied: graphql-core<3.2,>=3.1.5 in c:\\users\\raq\\appdata\\local\\programs\\python\\python38-32\\lib\\site-packages (from gql==3.0.0b0->safegraphql==0.5.11) (3.1.6)\n",
      "Requirement already satisfied: python-dateutil>=2.7.3 in c:\\users\\raq\\appdata\\local\\programs\\python\\python38-32\\lib\\site-packages (from pandas==1.3.2->safegraphql==0.5.11) (2.8.2)\n",
      "Requirement already satisfied: pytz>=2017.3 in c:\\users\\raq\\appdata\\local\\programs\\python\\python38-32\\lib\\site-packages (from pandas==1.3.2->safegraphql==0.5.11) (2021.1)\n",
      "Requirement already satisfied: numpy>=1.17.3 in c:\\users\\raq\\appdata\\local\\programs\\python\\python38-32\\lib\\site-packages (from pandas==1.3.2->safegraphql==0.5.11) (1.21.2)\n",
      "Requirement already satisfied: attrs>=17.3.0 in c:\\users\\raq\\appdata\\local\\programs\\python\\python38-32\\lib\\site-packages (from aiohttp<3.8.0,>=3.7.1->safegraphql==0.5.11) (21.2.0)\n",
      "Requirement already satisfied: typing-extensions>=3.6.5 in c:\\users\\raq\\appdata\\local\\programs\\python\\python38-32\\lib\\site-packages (from aiohttp<3.8.0,>=3.7.1->safegraphql==0.5.11) (3.7.4.3)\n",
      "Requirement already satisfied: multidict<7.0,>=4.5 in c:\\users\\raq\\appdata\\local\\programs\\python\\python38-32\\lib\\site-packages (from aiohttp<3.8.0,>=3.7.1->safegraphql==0.5.11) (4.7.6)\n",
      "Requirement already satisfied: async-timeout<4.0,>=3.0 in c:\\users\\raq\\appdata\\local\\programs\\python\\python38-32\\lib\\site-packages (from aiohttp<3.8.0,>=3.7.1->safegraphql==0.5.11) (3.0.1)\n",
      "Requirement already satisfied: chardet<5.0,>=2.0 in c:\\users\\raq\\appdata\\local\\programs\\python\\python38-32\\lib\\site-packages (from aiohttp<3.8.0,>=3.7.1->safegraphql==0.5.11) (3.0.4)\n",
      "Requirement already satisfied: six>=1.5 in c:\\users\\raq\\appdata\\local\\programs\\python\\python38-32\\lib\\site-packages (from python-dateutil>=2.7.3->pandas==1.3.2->safegraphql==0.5.11) (1.16.0)\n",
      "Requirement already satisfied: idna>=2.0 in c:\\users\\raq\\appdata\\local\\programs\\python\\python38-32\\lib\\site-packages (from yarl<2.0,>=1.6->gql==3.0.0b0->safegraphql==0.5.11) (3.2)\n"
     ]
    },
    {
     "name": "stderr",
     "output_type": "stream",
     "text": [
      "WARNING: Value for scheme.headers does not match. Please report this to <https://github.com/pypa/pip/issues/9617>\n",
      "distutils: c:\\users\\raq\\appdata\\local\\programs\\python\\python38-32\\Include\\UNKNOWN\n",
      "sysconfig: c:\\users\\raq\\appdata\\local\\programs\\python\\python38-32\\Include\n",
      "WARNING: Additional context:\n",
      "user = False\n",
      "home = None\n",
      "root = None\n",
      "prefix = None\n",
      "WARNING: Value for scheme.headers does not match. Please report this to <https://github.com/pypa/pip/issues/9617>\n",
      "distutils: c:\\users\\raq\\appdata\\local\\programs\\python\\python38-32\\Include\\UNKNOWN\n",
      "sysconfig: c:\\users\\raq\\appdata\\local\\programs\\python\\python38-32\\Include\n",
      "WARNING: Additional context:\n",
      "user = False\n",
      "home = None\n",
      "root = None\n",
      "prefix = None\n",
      "WARNING: You are using pip version 21.1; however, version 21.3.1 is available.\n",
      "You should consider upgrading via the 'c:\\users\\raq\\appdata\\local\\programs\\python\\python38-32\\python.exe -m pip install --upgrade pip' command.\n"
     ]
    }
   ],
   "source": [
    "!pip install safegraphql==0.5.11"
   ]
  },
  {
   "cell_type": "code",
   "execution_count": 6,
   "metadata": {},
   "outputs": [
    {
     "name": "stdout",
     "output_type": "stream",
     "text": [
      "0\n",
      "21.880587339401245\n"
     ]
    }
   ],
   "source": [
    "\n",
    "import safegraphql.client as sgql\n",
    "sgql_client = sgql.HTTP_Client(apikey=\"x8TUW4IV3hYC1L4Xav56nChUWwtBisRY\")\n",
    "placekeys = [\n",
    "        \"224-222@5vg-7gv-d7q\", # \"222-222@5qw-shj-7qz\", \"222-222@5s6-pyc-7qz\", \"zzy-222@5xc-k8q-zmk\",\n",
    "        \"zzw-222@8fy-fjg-b8v\", # (Disney World)\n",
    "        \"zzy-227@5sb-8cw-pjv\", # (O'Hare Airport)\n",
    "        \"222-223@65y-rxx-djv\", # (Walmart in Albany, NY)\n",
    "        ]\n",
    "\n",
    "# placekey without many visits\n",
    "sparse_pk = '228-222@63s-dvy-9cq' # Fu Wah Mini Market in Philadelphia\n",
    "dates = [\n",
    "    '2021-08-24', \n",
    "    '2020-08-25', \n",
    "    '2018-08-25'\n",
    "]\n",
    "cols = [\n",
    "    'placekey',\n",
    "    'location_name',\n",
    "    'street_address',\n",
    "    'city',\n",
    "    'region',\n",
    "    'brands',\n",
    "]\n",
    "\n",
    "date = {\"date_range_start\": \"2021-07-15\", \"date_range_end\": \"2021-07-29\"} \n",
    "import time\n",
    "now = time.time()\n",
    "max_res = sgql_client.search( product=\"geometry\", columns=\"*\", brand = \"starbucks\", brand_id = None, naics_code = None, phone_number = None, street_address = None, city = None, region = None, postal_code = None, iso_country_code = None, \n",
    "        max_results=10000, after_result_number=0, return_type=\"pandas\", date=date)\n",
    "after = time.time() - now\n",
    "print(after)"
   ]
  },
  {
   "cell_type": "code",
   "execution_count": null,
   "metadata": {},
   "outputs": [],
   "source": []
  }
 ],
 "metadata": {
  "kernelspec": {
   "display_name": "Python 3",
   "language": "python",
   "name": "python3"
  },
  "language_info": {
   "codemirror_mode": {
    "name": "ipython",
    "version": 3
   },
   "file_extension": ".py",
   "mimetype": "text/x-python",
   "name": "python",
   "nbconvert_exporter": "python",
   "pygments_lexer": "ipython3",
   "version": "3.8.5"
  }
 },
 "nbformat": 4,
 "nbformat_minor": 4
}
