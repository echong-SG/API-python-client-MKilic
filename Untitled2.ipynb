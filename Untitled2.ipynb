{
 "cells": [
  {
   "cell_type": "code",
   "execution_count": 1,
   "metadata": {},
   "outputs": [
    {
     "name": "stdout",
     "output_type": "stream",
     "text": [
      "Collecting safegraphql==0.4.3\n",
      "  Downloading safegraphQL-0.4.3-py3-none-any.whl (18 kB)\n",
      "Requirement already satisfied: gql>=2.0.0 in c:\\users\\raq\\appdata\\local\\programs\\python\\python38-32\\lib\\site-packages (from safegraphql==0.4.3) (3.0.0b0)\n",
      "Requirement already satisfied: pandas>=1.3.2 in c:\\users\\raq\\appdata\\local\\programs\\python\\python38-32\\lib\\site-packages (from safegraphql==0.4.3) (1.3.2)\n",
      "Requirement already satisfied: yarl<2.0,>=1.6 in c:\\users\\raq\\appdata\\local\\programs\\python\\python38-32\\lib\\site-packages (from gql>=2.0.0->safegraphql==0.4.3) (1.6.3)\n",
      "Requirement already satisfied: graphql-core<3.2,>=3.1.5 in c:\\users\\raq\\appdata\\local\\programs\\python\\python38-32\\lib\\site-packages (from gql>=2.0.0->safegraphql==0.4.3) (3.1.6)\n",
      "Requirement already satisfied: pytz>=2017.3 in c:\\users\\raq\\appdata\\local\\programs\\python\\python38-32\\lib\\site-packages (from pandas>=1.3.2->safegraphql==0.4.3) (2021.1)\n",
      "Requirement already satisfied: python-dateutil>=2.7.3 in c:\\users\\raq\\appdata\\local\\programs\\python\\python38-32\\lib\\site-packages (from pandas>=1.3.2->safegraphql==0.4.3) (2.8.2)\n",
      "Requirement already satisfied: numpy>=1.17.3 in c:\\users\\raq\\appdata\\local\\programs\\python\\python38-32\\lib\\site-packages (from pandas>=1.3.2->safegraphql==0.4.3) (1.21.2)\n",
      "Requirement already satisfied: six>=1.5 in c:\\users\\raq\\appdata\\local\\programs\\python\\python38-32\\lib\\site-packages (from python-dateutil>=2.7.3->pandas>=1.3.2->safegraphql==0.4.3) (1.16.0)\n",
      "Requirement already satisfied: idna>=2.0 in c:\\users\\raq\\appdata\\local\\programs\\python\\python38-32\\lib\\site-packages (from yarl<2.0,>=1.6->gql>=2.0.0->safegraphql==0.4.3) (3.2)\n",
      "Requirement already satisfied: multidict>=4.0 in c:\\users\\raq\\appdata\\local\\programs\\python\\python38-32\\lib\\site-packages (from yarl<2.0,>=1.6->gql>=2.0.0->safegraphql==0.4.3) (4.7.6)\n",
      "Installing collected packages: safegraphql\n",
      "  Attempting uninstall: safegraphql\n",
      "    Found existing installation: safegraphQL 0.5.11\n",
      "    Uninstalling safegraphQL-0.5.11:\n",
      "      Successfully uninstalled safegraphQL-0.5.11\n",
      "Successfully installed safegraphql-0.4.3\n"
     ]
    },
    {
     "name": "stderr",
     "output_type": "stream",
     "text": [
      "WARNING: Value for scheme.headers does not match. Please report this to <https://github.com/pypa/pip/issues/9617>\n",
      "distutils: c:\\users\\raq\\appdata\\local\\programs\\python\\python38-32\\Include\\UNKNOWN\n",
      "sysconfig: c:\\users\\raq\\appdata\\local\\programs\\python\\python38-32\\Include\n",
      "WARNING: Additional context:\n",
      "user = False\n",
      "home = None\n",
      "root = None\n",
      "prefix = None\n",
      "WARNING: Value for scheme.headers does not match. Please report this to <https://github.com/pypa/pip/issues/9617>\n",
      "distutils: c:\\users\\raq\\appdata\\local\\programs\\python\\python38-32\\Include\\UNKNOWN\n",
      "sysconfig: c:\\users\\raq\\appdata\\local\\programs\\python\\python38-32\\Include\n",
      "WARNING: Additional context:\n",
      "user = False\n",
      "home = None\n",
      "root = None\n",
      "prefix = None\n",
      "WARNING: You are using pip version 21.1; however, version 21.3.1 is available.\n",
      "You should consider upgrading via the 'c:\\users\\raq\\appdata\\local\\programs\\python\\python38-32\\python.exe -m pip install --upgrade pip' command.\n"
     ]
    }
   ],
   "source": [
    "!pip install safegraphql==0.4.3"
   ]
  },
  {
   "cell_type": "code",
   "execution_count": 22,
   "metadata": {},
   "outputs": [
    {
     "name": "stdout",
     "output_type": "stream",
     "text": [
      "0\n",
      "sgql_client.search 4.2757275104522705\n",
      "sgql_client.lookup 8.57133674621582\n",
      "  parent_placekey location_name                        safegraph_brand_ids  \\\n",
      "0            None     Taco Bell  SG_BRAND_748ba381dd81bb8de615319837ffa350   \n",
      "\n",
      "              brands                         top_category  \\\n",
      "0  taco bell cantina  Restaurants and Other Eating Places   \n",
      "\n",
      "                  sub_category  naics_code   latitude  longitude  \\\n",
      "0  Limited-Service Restaurants      722513  37.778599 -122.39276   \n",
      "\n",
      "  street_address  ... postal_code iso_country_code  phone_number  \\\n",
      "0     710 3rd St  ...       94107               US  +14159791587   \n",
      "\n",
      "                                          open_hours  \\\n",
      "0  { \"Mon\": [[\"7:00\", \"24:00\"]], \"Tue\": [[\"7:00\",...   \n",
      "\n",
      "                                       category_tags opened_on closed_on  \\\n",
      "0  [Counter Service, Late Night, Lunch, Fast Food...      None      None   \n",
      "\n",
      "  tracking_closed_since geometry_type             placekey  \n",
      "0            2019-07-01       POLYGON  224-222@5vg-7gv-d7q  \n",
      "\n",
      "[1 rows x 22 columns]\n",
      "sgql_client.lookup_by_name 1.1184158325195312\n"
     ]
    }
   ],
   "source": [
    "import safegraphql.client as sgql\n",
    "sgql_client = sgql.HTTP_Client(apikey=\"x8TUW4IV3hYC1L4Xav56nChUWwtBisRY\")\n",
    "placekeys = [\n",
    "        \"224-222@5vg-7gv-d7q\", # \"222-222@5qw-shj-7qz\", \"222-222@5s6-pyc-7qz\", \"zzy-222@5xc-k8q-zmk\",\n",
    "        \"zzw-222@8fy-fjg-b8v\", # (Disney World)\n",
    "        \"zzy-227@5sb-8cw-pjv\", # (O'Hare Airport)\n",
    "        \"222-223@65y-rxx-djv\", # (Walmart in Albany, NY)\n",
    "        ]\n",
    "\n",
    "# placekey without many visits\n",
    "sparse_pk = '228-222@63s-dvy-9cq' # Fu Wah Mini Market in Philadelphia\n",
    "dates = [\n",
    "    '2021-08-24', \n",
    "    '2020-08-25', \n",
    "    '2018-08-25'\n",
    "]\n",
    "cols = [\n",
    "    'placekey',\n",
    "    'location_name',\n",
    "    'street_address',\n",
    "    'city',\n",
    "    'region',\n",
    "    'brands',\n",
    "]\n",
    "\n",
    "date = {\"date_range_start\": \"2021-07-15\", \"date_range_end\": \"2021-07-29\"} \n",
    "import time\n",
    "now = time.time()\n",
    "max_res = sgql_client.search( product=\"geometry\", columns=\"*\", brand = \"starbucks\", brand_id = None, naics_code = None, phone_number = None, street_address = None, city = None, region = None, postal_code = None, iso_country_code = None, \n",
    "        max_results=1_000, after_result_number=0, return_type=\"pandas\", date=date)\n",
    "after = time.time() - now\n",
    "print(\"sgql_client.search\", after)\n",
    "# print(max_res)\n",
    "\n",
    "now = time.time()\n",
    "look_ = sgql_client.lookup(placekeys=placekeys, product=\"weekly_patterns\", columns=\"*\", return_type=\"pandas\", date=date) \n",
    "after = time.time() - now\n",
    "# print(look_)\n",
    "print(\"sgql_client.lookup\", after)\n",
    "\n",
    "now = time.time()\n",
    "by_name = sgql_client.lookup_by_name(date=date, \n",
    "        product=\"core\",\n",
    "        location_name= \"Taco Bell\", \n",
    "        street_address= \"710 3rd St\", \n",
    "        city= \"San Francisco\", \n",
    "        region= \"CA\", \n",
    "        iso_country_code= \"US\",\n",
    "        return_type=\"pandas\",\n",
    "        columns=\"*\")\n",
    "after = time.time() - now\n",
    "print(by_name)\n",
    "print(\"sgql_client.lookup_by_name\", after)"
   ]
  },
  {
   "cell_type": "code",
   "execution_count": null,
   "metadata": {},
   "outputs": [],
   "source": []
  },
  {
   "cell_type": "code",
   "execution_count": null,
   "metadata": {},
   "outputs": [],
   "source": []
  }
 ],
 "metadata": {
  "kernelspec": {
   "display_name": "Python 3",
   "language": "python",
   "name": "python3"
  },
  "language_info": {
   "codemirror_mode": {
    "name": "ipython",
    "version": 3
   },
   "file_extension": ".py",
   "mimetype": "text/x-python",
   "name": "python",
   "nbconvert_exporter": "python",
   "pygments_lexer": "ipython3",
   "version": "3.8.5"
  }
 },
 "nbformat": 4,
 "nbformat_minor": 4
}
